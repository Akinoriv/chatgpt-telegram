{
 "cells": [
  {
   "cell_type": "code",
   "execution_count": null,
   "metadata": {},
   "outputs": [],
   "source": [
    "# Install the python-dotenv package if you haven't already\n",
    "# !pip install python-dotenv\n",
    "# !pip install seaborn\n"
   ]
  },
  {
   "cell_type": "code",
   "execution_count": null,
   "metadata": {},
   "outputs": [],
   "source": [
    "from sqlalchemy import create_engine\n",
    "import pandas as pd\n",
    "import matplotlib.pyplot as plt\n",
    "from dotenv import load_dotenv\n",
    "import os\n",
    "import seaborn as sns"
   ]
  },
  {
   "cell_type": "code",
   "execution_count": null,
   "metadata": {},
   "outputs": [],
   "source": [
    "# Load environment variables from .env file\n",
    "load_dotenv()"
   ]
  },
  {
   "cell_type": "code",
   "execution_count": null,
   "metadata": {},
   "outputs": [],
   "source": [
    "# Get the database URL from the environment variable\n",
    "DATABASE_URL = os.getenv('DATABASE_URL')\n"
   ]
  },
  {
   "cell_type": "code",
   "execution_count": null,
   "metadata": {},
   "outputs": [],
   "source": [
    "# Create an SQLAlchemy engine\n",
    "engine = create_engine(DATABASE_URL)\n"
   ]
  },
  {
   "cell_type": "code",
   "execution_count": null,
   "metadata": {},
   "outputs": [],
   "source": [
    "# Define your start and end date as parameters\n",
    "start_date = '2024-01-01'  # Replace with your start date\n",
    "end_date = '2024-02-01'    # Replace with your end date\n",
    "\n",
    "# SQL query with numbered placeholders for parameters\n",
    "# Using the SQLAlchemy engine, we must use the format %(name)s for placeholders.\n",
    "query = \"\"\"\n",
    "SELECT\n",
    "    users.username as user_id,\n",
    "    DATE_TRUNC('day', events.time) as period,\n",
    "    COUNT(*) as messages\n",
    "FROM \n",
    "    events\n",
    "JOIN \n",
    "    users ON events.user_username = users.username\n",
    "WHERE\n",
    "    events.type = 'user_message'\n",
    "AND \n",
    "    events.time::date >= %(start_date)s\n",
    "AND \n",
    "    events.time::date <= %(end_date)s\n",
    "GROUP BY\n",
    "    1, 2\n",
    "ORDER BY\n",
    "    2 DESC\n",
    "\"\"\"\n",
    "\n",
    "# Read the query result into a DataFrame using the parameters\n",
    "df = pd.read_sql_query(query, engine, params={'start_date': start_date, 'end_date': end_date})"
   ]
  },
  {
   "cell_type": "code",
   "execution_count": null,
   "metadata": {},
   "outputs": [],
   "source": [
    "# Convert 'period' column to string to avoid issues with plotting\n",
    "df['period'] = df['period'].astype(str)\n",
    "\n",
    "# Pivot the DataFrame to have periods as the index and user_ids as the columns\n",
    "pivot_df = df.pivot(index='period', columns='user_id', values='messages')\n",
    "\n",
    "# Plot a stacked bar chart\n",
    "pivot_df.plot(kind='bar', stacked=True, figsize=(12, 6), colormap='tab20')\n",
    "\n",
    "plt.xlabel('Period')\n",
    "plt.ylabel('Messages')\n",
    "plt.title('Stacked message count by user over time')\n",
    "plt.xticks(rotation=45)\n",
    "plt.tight_layout()  # Adjust layout to prevent clipping of labels\n",
    "\n",
    "# Move the legend outside of the plot area\n",
    "plt.legend(title='User ID', loc='upper left', bbox_to_anchor=(1, 1))\n",
    "\n",
    "# Show the plot with the legend moved out of the way\n",
    "plt.show()"
   ]
  },
  {
   "cell_type": "code",
   "execution_count": null,
   "metadata": {},
   "outputs": [],
   "source": []
  }
 ],
 "metadata": {
  "kernelspec": {
   "display_name": "Python 3",
   "language": "python",
   "name": "python3"
  },
  "language_info": {
   "codemirror_mode": {
    "name": "ipython",
    "version": 3
   },
   "file_extension": ".py",
   "mimetype": "text/x-python",
   "name": "python",
   "nbconvert_exporter": "python",
   "pygments_lexer": "ipython3",
   "version": "3.11.5"
  }
 },
 "nbformat": 4,
 "nbformat_minor": 2
}
