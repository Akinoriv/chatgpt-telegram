{
 "cells": [
  {
   "cell_type": "code",
   "execution_count": null,
   "metadata": {},
   "outputs": [],
   "source": [
    "# Install the python-dotenv package if you haven't already\n",
    "# !pip install python-dotenv\n"
   ]
  },
  {
   "cell_type": "code",
   "execution_count": null,
   "metadata": {},
   "outputs": [],
   "source": [
    "from sqlalchemy import create_engine\n",
    "import pandas as pd\n",
    "from dotenv import load_dotenv\n",
    "import os\n",
    "\n",
    "from sqlalchemy import text"
   ]
  },
  {
   "cell_type": "code",
   "execution_count": null,
   "metadata": {},
   "outputs": [],
   "source": [
    "# Load environment variables from .env file\n",
    "load_dotenv()"
   ]
  },
  {
   "cell_type": "code",
   "execution_count": null,
   "metadata": {},
   "outputs": [],
   "source": [
    "# Get the database URL from the environment variable\n",
    "DATABASE_URL = os.getenv('DATABASE_URL')\n"
   ]
  },
  {
   "cell_type": "code",
   "execution_count": null,
   "metadata": {},
   "outputs": [],
   "source": [
    "# Create an SQLAlchemy engine\n",
    "engine = create_engine(DATABASE_URL)\n"
   ]
  },
  {
   "cell_type": "code",
   "execution_count": null,
   "metadata": {},
   "outputs": [],
   "source": [
    "user_id_to_update = REPLACE_WITH_YOU_USER_ID"
   ]
  },
  {
   "cell_type": "code",
   "execution_count": null,
   "metadata": {},
   "outputs": [],
   "source": [
    "def get_user_info(engine, user_id_to_update):\n",
    "    \"\"\"\n",
    "    Fetches information about a user from the 'users' table.\n",
    "\n",
    "    Parameters:\n",
    "    - engine: An SQLAlchemy engine instance connected to the database.\n",
    "    - user_id_to_update: The user_id of the user to fetch information for.\n",
    "\n",
    "    Returns:\n",
    "    - A pandas DataFrame containing the user information.\n",
    "    \"\"\"\n",
    "    \n",
    "    # SQL query with named placeholders for parameters\n",
    "    query = \"\"\"\n",
    "    SELECT\n",
    "        *\n",
    "    FROM \n",
    "        users\n",
    "    WHERE\n",
    "        user_id = %(user_id_to_update)s\n",
    "    \"\"\"\n",
    "    \n",
    "    # Execute the query and return a DataFrame\n",
    "    df = pd.read_sql_query(query, engine, params={'user_id_to_update': user_id_to_update})\n",
    "    \n",
    "    return df"
   ]
  },
  {
   "cell_type": "code",
   "execution_count": null,
   "metadata": {},
   "outputs": [],
   "source": [
    "# Get current info about the user\n",
    "\n",
    "# Read the query result into a DataFrame using the parameters\n",
    "get_user_info(engine, user_id_to_update)"
   ]
  },
  {
   "cell_type": "code",
   "execution_count": null,
   "metadata": {},
   "outputs": [],
   "source": [
    "# SQL query to update user's usage_type to 'premium'\n",
    "query = text(\"\"\"\n",
    "UPDATE users\n",
    "SET usage_type = 'premium'\n",
    "WHERE user_id = :user_id_to_update\n",
    "\"\"\")\n",
    "\n",
    "# Execute the update query using the SQLAlchemy engine\n",
    "with engine.connect() as connection:\n",
    "    connection.execute(query, {'user_id_to_update': user_id_to_update})\n",
    "    # Commit the changes if the engine is not in autocommit mode\n",
    "    # (this depends on your engine's configuration)\n",
    "    connection.commit()"
   ]
  },
  {
   "cell_type": "code",
   "execution_count": null,
   "metadata": {},
   "outputs": [],
   "source": [
    "get_user_info(engine, user_id_to_update)"
   ]
  },
  {
   "cell_type": "code",
   "execution_count": null,
   "metadata": {},
   "outputs": [],
   "source": []
  }
 ],
 "metadata": {
  "kernelspec": {
   "display_name": "Python 3",
   "language": "python",
   "name": "python3"
  },
  "language_info": {
   "codemirror_mode": {
    "name": "ipython",
    "version": 3
   },
   "file_extension": ".py",
   "mimetype": "text/x-python",
   "name": "python",
   "nbconvert_exporter": "python",
   "pygments_lexer": "ipython3",
   "version": "3.11.8"
  }
 },
 "nbformat": 4,
 "nbformat_minor": 2
}
